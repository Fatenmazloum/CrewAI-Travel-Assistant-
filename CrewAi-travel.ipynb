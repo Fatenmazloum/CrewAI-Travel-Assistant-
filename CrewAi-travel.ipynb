{
 "cells": [
  {
   "cell_type": "markdown",
   "id": "463722b3",
   "metadata": {},
   "source": [
    "By default, CrewAI uses OpenAI models (like GPT) for tasks if you don't explicitly provide a custom LLM (Language Model) or set llm=None in your Agent or Task.\n",
    "\n",
    "If you want to use dummy or custom functions (like the flight checks in your example), you need to explicitly disable GPT usage by setting llm=None in both the Agent and Task."
   ]
  },
  {
   "cell_type": "markdown",
   "id": "55844fe3",
   "metadata": {},
   "source": [
    " 1. CrewAI is a python framework designed to connect multiple AI agents to work on a complex task.\n",
    "\n",
    " 2. Langchain is a pythom framework to build LLM application.\n",
    "\n",
    " 3. LangChain = Text generation + NLP tasks.\n",
    "\n",
    "    Steps: Retrieve → Process → Generate (ideal for chatbots or text-based apps).\n",
    "\n",
    " 4. CrewAI = Multiple agents + Tasks.\n",
    "\n",
    "    Steps: Define agents → Delegate tasks → Orchestrate (ideal for managing complex workflows like travel planning)."
   ]
  },
  {
   "cell_type": "markdown",
   "id": "1e2df951",
   "metadata": {},
   "source": [
    "Goal: User Input: The user asks a question like, “I want to go to Japan next month, can you help me book my trip?”.\n",
    "\n",
    "CrewAI Workflow: The system will delegate different tasks to agents, each performing their own role:\n",
    "\n",
    "Agent 1 (Flight Agent) checks available flights.\n",
    "\n",
    "Agent 2 (Hotel Agent) suggests hotels.\n",
    "\n",
    "Agent 3 (Advice Agent) gives travel tips."
   ]
  },
  {
   "cell_type": "markdown",
   "id": "e8b4675f",
   "metadata": {},
   "source": [
    ".............................................................................................................\n",
    "\n",
    "1. OpenAI API (Cloud):\n",
    "\n",
    "Use this for OpenAI's models (e.g., GPT-3, GPT-4 can be used via API).\n",
    "\n",
    "You authenticate with openai.api_key=\"  \" and use openai.ChatCompletion.create(model=...) to interact with the model.\n",
    "\n",
    "2. Local Model Server (e.g., using Ollama or similar):\n",
    "\n",
    "Use this for open-source models (like LLaMA, Phi).\n",
    "\n",
    "You connect to your local model server (e.g., http://localhost:11434/v1) using openai.OpenAI (base_url\"\" ,api_key\"no key) and use .chat.completions.create(model=,messages=)\n",
    "\n",
    "No API key may be needed, depending on your local setup."
   ]
  },
  {
   "cell_type": "code",
   "execution_count": 26,
   "id": "92f9b80b",
   "metadata": {},
   "outputs": [],
   "source": [
    "import streamlit as st # webchatbot\n",
    "from crewai import Agent, Task, Crew\n",
    "from dotenv import load_dotenv #load secret keys (password or API) from  .env file\n",
    "import os\n",
    "import litellm #wrapper that lets use many models with the same code"
   ]
  },
  {
   "cell_type": "code",
   "execution_count": 27,
   "id": "aec3727b",
   "metadata": {},
   "outputs": [],
   "source": [
    "load_dotenv() #accessed using os.getenv().\n",
    "apikey=os.getenv(\"OPENAI_API_KEY\")# get variable named openai api key from .env file"
   ]
  },
  {
   "cell_type": "markdown",
   "id": "f6421456",
   "metadata": {},
   "source": [
    "OpenAI's API only lets you use OpenAI models (like gpt-4, gpt-3.5-turbo).\n",
    "\n",
    "LiteLLM is a python library acts as a wrapper that lets you use many models (OpenAI, Anthropic Claude, Google Gemini, Mistral, etc.) with the same code style. Switch to another model provider by just changing the model name"
   ]
  },
  {
   "cell_type": "markdown",
   "id": "224bd8eb",
   "metadata": {},
   "source": [
    "litellm.completion( model name=\"...\",messages=[{'role':'','content':''}],api_key)....... choices[0].message.content"
   ]
  },
  {
   "cell_type": "code",
   "execution_count": 28,
   "id": "752d4c2f",
   "metadata": {},
   "outputs": [
    {
     "name": "stderr",
     "output_type": "stream",
     "text": [
      "2025-05-12 17:18:48.788 Thread 'MainThread': missing ScriptRunContext! This warning can be ignored when running in bare mode.\n",
      "2025-05-12 17:18:48.813 Thread 'MainThread': missing ScriptRunContext! This warning can be ignored when running in bare mode.\n",
      "2025-05-12 17:18:48.813 Thread 'MainThread': missing ScriptRunContext! This warning can be ignored when running in bare mode.\n",
      "2025-05-12 17:18:48.821 Thread 'MainThread': missing ScriptRunContext! This warning can be ignored when running in bare mode.\n",
      "2025-05-12 17:18:48.821 Thread 'MainThread': missing ScriptRunContext! This warning can be ignored when running in bare mode.\n",
      "2025-05-12 17:18:48.829 Thread 'MainThread': missing ScriptRunContext! This warning can be ignored when running in bare mode.\n",
      "2025-05-12 17:18:48.829 Thread 'MainThread': missing ScriptRunContext! This warning can be ignored when running in bare mode.\n",
      "2025-05-12 17:18:48.840 Thread 'MainThread': missing ScriptRunContext! This warning can be ignored when running in bare mode.\n",
      "2025-05-12 17:18:48.848 Thread 'MainThread': missing ScriptRunContext! This warning can be ignored when running in bare mode.\n"
     ]
    }
   ],
   "source": [
    "st.set_page_config(page_title=\"Travel Assistant\",layout='centered')\n",
    "st.title(\"Hello Iam your travel assistant\")\n",
    "destination=st.text_input(\"Enter you destination here\")\n",
    "\n"
   ]
  },
  {
   "cell_type": "markdown",
   "id": "a5e1f3f5",
   "metadata": {},
   "source": [
    "Without llm=None: \n",
    "\n",
    "By default, CrewAI uses the LLM specified in the Agent or Task.\n",
    "\n",
    "The Agent’s description is passed to the LLM when the task is executed.\n",
    "\n",
    "The LLM processes this and provides a response, which is returned as the task output."
   ]
  },
  {
   "cell_type": "code",
   "execution_count": 29,
   "id": "a3e17fd5",
   "metadata": {},
   "outputs": [],
   "source": [
    "#Define Agents\n",
    "#flight agent\n",
    "flight_agent=Agent(\n",
    "    role='Reservation Specialist',\n",
    "    goal='Find suitable airlines ',\n",
    "    backstory='Search for suitable airlines with special prices for the user',\n",
    "    llm=None #llm used to generate answer\n",
    ")"
   ]
  },
  {
   "cell_type": "markdown",
   "id": "a3e9bb52",
   "metadata": {},
   "source": [
    "Each agent is defined with:\n",
    "\n",
    "Role → Who the agent is (\"Travel Expert\", \"Market Analyst\", etc.)\n",
    "\n",
    "Goal → What the agent is trying to accomplish\n",
    "\n",
    "Backstory / Description → Optional extra context or personality\n",
    "\n",
    "LLM → The language model the agent uses to think or act\n",
    "\n",
    "Tasks → The actions the agent performs (calls to the LLM using the role, goal, etc.)"
   ]
  },
  {
   "cell_type": "code",
   "execution_count": 30,
   "id": "1248fb38",
   "metadata": {},
   "outputs": [],
   "source": [
    "#Hotel agent\n",
    "hotel_agent=Agent(\n",
    "    role='Hotel Specialist',\n",
    "    goal='Find suitable hotels',\n",
    "    backstory='I specialize in recommending the best hotels and accommodations for travelers',\n",
    "    llm=None #llm used to generate answer\n",
    ")"
   ]
  },
  {
   "cell_type": "code",
   "execution_count": 31,
   "id": "032fce08",
   "metadata": {},
   "outputs": [],
   "source": [
    "#Tour agent\n",
    "tour_agent=Agent(\n",
    "    role='Tour Specialist',\n",
    "    goal='Find suitable places to visit',\n",
    "    backstory='I provide information on the best places to visit and special tours for tourists',\n",
    "    llm=None #llm used to generate answer\n",
    ")"
   ]
  },
  {
   "cell_type": "code",
   "execution_count": 32,
   "id": "8b16064f",
   "metadata": {},
   "outputs": [],
   "source": [
    "#Advice agent\n",
    "advice_agent=Agent(\n",
    "    role='Advice Specialist',\n",
    "    goal='Provide advices to the user',\n",
    "    backstory='I give tips and important advice to help tourists have a smooth and enjoyable trip.',\n",
    "    llm=None #llm used to generate answer\n",
    ")"
   ]
  },
  {
   "cell_type": "code",
   "execution_count": null,
   "id": "fca7e42e",
   "metadata": {},
   "outputs": [],
   "source": [
    "#agent 1 will retreive information from a dummy function\n",
    "def check_flights(destination):\n",
    "    print(f\"Fetching flight details for: {destination}\")\n",
    "    if destination.lower()=='canada':\n",
    "        return [{'airline':'Emirates','price':'1800$'},{'airline':'Turkish','price':'1500$'}]\n",
    "    elif destination.lower()=='japan':\n",
    "        return [{'airline':'MiddleEast','price':'1500$'},{'airline':'AirFrance','price':'1400$'}]\n",
    "    else:\n",
    "        return[{'airline': 'None', 'price': 'N/A'}]\n"
   ]
  },
  {
   "cell_type": "code",
   "execution_count": 34,
   "id": "7ac2ac99",
   "metadata": {},
   "outputs": [],
   "source": [
    "#rest agents will retrive their informations from openai model (ex. gpt-3.5-turbo) using litellm library\n",
    "def check_hotels(destination):\n",
    "    res=litellm.completion.create(\n",
    "        model=\"gpt-3.5-turbo\",\n",
    "        api_key=apikey,\n",
    "        temperature=0.3,\n",
    "        messages=[{'role':'user','content':f\"list 5 famous hotels in {destination}\"}]\n",
    ")\n",
    "    return res['choices'][0]['message']['content']"
   ]
  },
  {
   "cell_type": "markdown",
   "id": "b499032d",
   "metadata": {},
   "source": [
    "print(type(res)) if its dic use res1['choices'][0]['message']['content']\n",
    "\n",
    "                  if its object use  res.choices[0].message.content"
   ]
  },
  {
   "cell_type": "code",
   "execution_count": 35,
   "id": "1b346d5f",
   "metadata": {},
   "outputs": [],
   "source": [
    "def tours(destination):\n",
    "    res=litellm.completion.create(\n",
    "        model=\"gpt-3.5-turbo\",\n",
    "        api_key=apikey,\n",
    "        temperature=0.3,\n",
    "        messages=[{'role':'user','content':f\"list 5 famous places to  be visited in {destination}\"}]\n",
    ")\n",
    "    return res['choices'][0]['message']['content']"
   ]
  },
  {
   "cell_type": "code",
   "execution_count": 36,
   "id": "675b7c95",
   "metadata": {},
   "outputs": [],
   "source": [
    "def advices(destination):\n",
    "    res=litellm.completion.create(\n",
    "        model=\"gpt-3.5-turbo\",\n",
    "        api_key=apikey,\n",
    "        temperature=0.3,\n",
    "        messages=[{'role':'user','content':f\"list advices before traveling to {destination}\"}]\n",
    ")\n",
    "    return res['choices'][0]['message']['content']"
   ]
  },
  {
   "cell_type": "markdown",
   "id": "04f4ab7c",
   "metadata": {},
   "source": [
    "In general:\n",
    "\n",
    "✅ Role, goal, and description are passed to the LLM when a task runs.\n",
    "\n",
    "❌ Expected output is not passed unless you write it into the task instructions.\n",
    "\n"
   ]
  },
  {
   "cell_type": "code",
   "execution_count": null,
   "id": "e60bdebb",
   "metadata": {},
   "outputs": [],
   "source": [
    "#define tasks for each agent (description,agent,expected output...)\n",
    "flight_task=Task(\n",
    "    description=\"Find available airlines with their prices\",\n",
    "    expected_output=\"Provide a brief summary of the best flight option for the user\",\n",
    "    agent=flight_agent,\n",
    "    llm=None,\n",
    "    task_function=lambda: check_flights(destination)\n",
    ")"
   ]
  },
  {
   "cell_type": "code",
   "execution_count": null,
   "id": "98c82a5c",
   "metadata": {},
   "outputs": [],
   "source": [
    "hotel_task=Task(\n",
    "    description=\"Find famous hotels for the user\",\n",
    "    expected_output=\"Provide a brief summary of the best hotels for the user\",\n",
    "    agent=hotel_agent,\n",
    "    llm=None,\n",
    "    task_function=lambda: check_hotels(destination)\n",
    ")"
   ]
  },
  {
   "cell_type": "code",
   "execution_count": null,
   "id": "0b5cc25a",
   "metadata": {},
   "outputs": [],
   "source": [
    "tour_task=Task(\n",
    "    description=\"Find famous places for the user\",\n",
    "    expected_output=\"Provide a brief summary of the best tour for the user\",\n",
    "    agent=tour_agent,\n",
    "    llm=None,\n",
    "    task_function=lambda: tours(destination)\n",
    ")"
   ]
  },
  {
   "cell_type": "code",
   "execution_count": null,
   "id": "e67037ee",
   "metadata": {},
   "outputs": [],
   "source": [
    "advice_task=Task(\n",
    "    description=\"Provide advices for the user\",\n",
    "    expected_output=\"Give tips and important advice to help tourists have a smooth and enjoyable trip\",\n",
    "    agent=advice_agent,\n",
    "    llm=None,\n",
    "    task_function=lambda: advices(destination)\n",
    ")"
   ]
  },
  {
   "cell_type": "markdown",
   "id": "46193a71",
   "metadata": {},
   "source": [
    "If you want to use your own custom function (that uses LiteLLM, openai, or anything else) instead of having CrewAI handle the LLM calls internally, then here's what to do:\n",
    "\n",
    "✅ Steps to use a custom function with CrewAI:\n",
    "\n",
    "Set the agent’s llm=None\n",
    "\n",
    "Create a function_task\n",
    "\n",
    "Pass your external function to the Task"
   ]
  },
  {
   "cell_type": "code",
   "execution_count": 41,
   "id": "711ca0c1",
   "metadata": {},
   "outputs": [],
   "source": [
    "crew=Crew(\n",
    "    agents=[flight_agent,hotel_agent,tour_agent,advice_agent],\n",
    "    tasks=[flight_task,hotel_task,tour_task,advice_task],\n",
    "    process=\"sequential\"\n",
    ")"
   ]
  },
  {
   "cell_type": "markdown",
   "id": "a1d29a40",
   "metadata": {},
   "source": [
    "| Using Built-in LLM (`llm=OpenAI(...)`) | Using `function=` + your own logic    |\n",
    "| -------------------------------------- | ------------------------------------- |\n",
    "| CrewAI builds the full prompt          | You build the prompt manually         |\n",
    "| Sends role, goal, backstory, etc.      | Only sends what your function defines |\n",
    "| Easy to use, less flexible             | Fully flexible, more control          |\n"
   ]
  },
  {
   "cell_type": "code",
   "execution_count": null,
   "id": "0b13ed9b",
   "metadata": {},
   "outputs": [],
   "source": [
    "if destination:\n",
    "    result = crew.kickoff()\n",
    "    #st.write(\"Results: \", result)# displays dict raws, output tasks....\n",
    "\n",
    "    # Display chat history\n",
    "    \n",
    "    if \"history\" not in st.session_state:\n",
    "        st.session_state.history = []\n",
    "\n",
    "        #i want to skip printing expected output,description...\n",
    "\n",
    "    for task_output in result.tasks_output:\n",
    "        # Add each task response to the history\n",
    "        st.session_state.history.append({\"question\": destination, \"answer\": task_output.raw})\n",
    "\n",
    "    for chat in st.session_state.history:\n",
    "        st.markdown(f\"**You:** {chat['question']}\")\n",
    "        st.markdown(f\"**Bot:** {chat['answer']}\")\n",
    "        st.markdown(\"----------\")\n"
   ]
  },
  {
   "cell_type": "markdown",
   "id": "e43e293e",
   "metadata": {},
   "source": [
    "CrewAI's task system just to:\n",
    "\n",
    "Organize agents and tasks.\n",
    "\n",
    "Run my custom functions in sequence.\n",
    "\n",
    "Collect and display the output."
   ]
  },
  {
   "cell_type": "markdown",
   "id": "097dc5fd",
   "metadata": {},
   "source": [
    "just type on cmd set OPENAI_API_KEY=put your api key here without \"\" before streamlit run name.py\n"
   ]
  },
  {
   "cell_type": "markdown",
   "id": "2fcfd4a9",
   "metadata": {},
   "source": [
    "Result :\n",
    "\n",
    "\"raw\" — the top-level final response(last task executed in the crew).\n",
    "\n",
    "\"tasks_output\" — all tasks results in order"
   ]
  }
 ],
 "metadata": {
  "kernelspec": {
   "display_name": "test",
   "language": "python",
   "name": "python3"
  },
  "language_info": {
   "codemirror_mode": {
    "name": "ipython",
    "version": 3
   },
   "file_extension": ".py",
   "mimetype": "text/x-python",
   "name": "python",
   "nbconvert_exporter": "python",
   "pygments_lexer": "ipython3",
   "version": "3.10.3"
  }
 },
 "nbformat": 4,
 "nbformat_minor": 5
}
